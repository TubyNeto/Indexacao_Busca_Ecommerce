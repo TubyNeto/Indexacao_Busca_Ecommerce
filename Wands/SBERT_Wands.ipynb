{
 "cells": [
  {
   "cell_type": "markdown",
   "id": "fd4b603b",
   "metadata": {},
   "source": [
    "## Instalação da Biblioteca sentence-transformers"
   ]
  },
  {
   "cell_type": "code",
   "execution_count": 1,
   "id": "6a19b383",
   "metadata": {
    "scrolled": true
   },
   "outputs": [
    {
     "name": "stdout",
     "output_type": "stream",
     "text": [
      "Requirement already satisfied: sentence-transformers in c:\\users\\ton2\\anaconda3\\lib\\site-packages (2.2.2)\n",
      "Requirement already satisfied: scikit-learn in c:\\users\\ton2\\anaconda3\\lib\\site-packages (from sentence-transformers) (0.24.2)\n",
      "Requirement already satisfied: transformers<5.0.0,>=4.6.0 in c:\\users\\ton2\\anaconda3\\lib\\site-packages (from sentence-transformers) (4.17.0)\n",
      "Requirement already satisfied: scipy in c:\\users\\ton2\\anaconda3\\lib\\site-packages (from sentence-transformers) (1.7.1)\n",
      "Requirement already satisfied: tqdm in c:\\users\\ton2\\anaconda3\\lib\\site-packages (from sentence-transformers) (4.62.3)\n",
      "Requirement already satisfied: nltk in c:\\users\\ton2\\anaconda3\\lib\\site-packages (from sentence-transformers) (3.6.5)\n",
      "Requirement already satisfied: sentencepiece in c:\\users\\ton2\\anaconda3\\lib\\site-packages (from sentence-transformers) (0.1.96)\n",
      "Requirement already satisfied: torch>=1.6.0 in c:\\users\\ton2\\anaconda3\\lib\\site-packages (from sentence-transformers) (1.11.0)\n",
      "Requirement already satisfied: torchvision in c:\\users\\ton2\\anaconda3\\lib\\site-packages (from sentence-transformers) (0.12.0)\n",
      "Requirement already satisfied: huggingface-hub>=0.4.0 in c:\\users\\ton2\\anaconda3\\lib\\site-packages (from sentence-transformers) (0.4.0)\n",
      "Requirement already satisfied: numpy in c:\\users\\ton2\\anaconda3\\lib\\site-packages (from sentence-transformers) (1.20.3)\n",
      "Requirement already satisfied: filelock in c:\\users\\ton2\\anaconda3\\lib\\site-packages (from huggingface-hub>=0.4.0->sentence-transformers) (3.3.1)\n",
      "Requirement already satisfied: pyyaml in c:\\users\\ton2\\anaconda3\\lib\\site-packages (from huggingface-hub>=0.4.0->sentence-transformers) (6.0)\n",
      "Requirement already satisfied: requests in c:\\users\\ton2\\anaconda3\\lib\\site-packages (from huggingface-hub>=0.4.0->sentence-transformers) (2.26.0)\n",
      "Requirement already satisfied: packaging>=20.9 in c:\\users\\ton2\\anaconda3\\lib\\site-packages (from huggingface-hub>=0.4.0->sentence-transformers) (21.0)\n",
      "Requirement already satisfied: typing-extensions>=3.7.4.3 in c:\\users\\ton2\\anaconda3\\lib\\site-packages (from huggingface-hub>=0.4.0->sentence-transformers) (3.10.0.2)\n",
      "Requirement already satisfied: pyparsing>=2.0.2 in c:\\users\\ton2\\anaconda3\\lib\\site-packages (from packaging>=20.9->huggingface-hub>=0.4.0->sentence-transformers) (3.0.4)\n",
      "Requirement already satisfied: tokenizers!=0.11.3,>=0.11.1 in c:\\users\\ton2\\anaconda3\\lib\\site-packages (from transformers<5.0.0,>=4.6.0->sentence-transformers) (0.12.0)\n",
      "Requirement already satisfied: regex!=2019.12.17 in c:\\users\\ton2\\anaconda3\\lib\\site-packages (from transformers<5.0.0,>=4.6.0->sentence-transformers) (2021.8.3)\n",
      "Requirement already satisfied: sacremoses in c:\\users\\ton2\\anaconda3\\lib\\site-packages (from transformers<5.0.0,>=4.6.0->sentence-transformers) (0.0.49)\n",
      "Requirement already satisfied: colorama in c:\\users\\ton2\\anaconda3\\lib\\site-packages (from tqdm->sentence-transformers) (0.4.4)\n",
      "Requirement already satisfied: click in c:\\users\\ton2\\anaconda3\\lib\\site-packages (from nltk->sentence-transformers) (8.0.3)\n",
      "Note: you may need to restart the kernel to use updated packages.Requirement already satisfied: joblib in c:\\users\\ton2\\anaconda3\\lib\\site-packages (from nltk->sentence-transformers) (1.1.0)\n",
      "Requirement already satisfied: certifi>=2017.4.17 in c:\\users\\ton2\\anaconda3\\lib\\site-packages (from requests->huggingface-hub>=0.4.0->sentence-transformers) (2021.10.8)\n",
      "Requirement already satisfied: urllib3<1.27,>=1.21.1 in c:\\users\\ton2\\anaconda3\\lib\\site-packages (from requests->huggingface-hub>=0.4.0->sentence-transformers) (1.26.7)\n",
      "Requirement already satisfied: idna<4,>=2.5 in c:\\users\\ton2\\anaconda3\\lib\\site-packages (from requests->huggingface-hub>=0.4.0->sentence-transformers) (3.2)\n",
      "Requirement already satisfied: charset-normalizer~=2.0.0 in c:\\users\\ton2\\anaconda3\\lib\\site-packages (from requests->huggingface-hub>=0.4.0->sentence-transformers) (2.0.4)\n",
      "Requirement already satisfied: six in c:\\users\\ton2\\anaconda3\\lib\\site-packages (from sacremoses->transformers<5.0.0,>=4.6.0->sentence-transformers) (1.16.0)\n",
      "Requirement already satisfied: threadpoolctl>=2.0.0 in c:\\users\\ton2\\anaconda3\\lib\\site-packages (from scikit-learn->sentence-transformers) (2.2.0)\n",
      "Requirement already satisfied: pillow!=8.3.*,>=5.3.0 in c:\\users\\ton2\\anaconda3\\lib\\site-packages (from torchvision->sentence-transformers) (8.4.0)\n",
      "\n"
     ]
    }
   ],
   "source": [
    "pip install -U sentence-transformers"
   ]
  },
  {
   "cell_type": "markdown",
   "id": "ce0a92b4",
   "metadata": {},
   "source": [
    "## Definição do Modelo"
   ]
  },
  {
   "cell_type": "code",
   "execution_count": 2,
   "id": "7d0dcf55",
   "metadata": {},
   "outputs": [],
   "source": [
    "from sentence_transformers import SentenceTransformer\n",
    "\n",
    "model_id = 'sentence-transformers/all-mpnet-base-v2'\n",
    "model = SentenceTransformer(model_id)"
   ]
  },
  {
   "cell_type": "code",
   "execution_count": 3,
   "id": "976a9635",
   "metadata": {},
   "outputs": [
    {
     "name": "stdout",
     "output_type": "stream",
     "text": [
      "[[ 0.0225026  -0.07829181 -0.02303074 ... -0.00827927  0.02652692\n",
      "  -0.00201897]\n",
      " [ 0.04170236  0.0010974  -0.01553418 ... -0.02181627 -0.0635936\n",
      "  -0.00875284]]\n"
     ]
    }
   ],
   "source": [
    "from sentence_transformers import SentenceTransformer\n",
    "sentences = [\"This is an example sentence\", \"Each sentence is converted\"]\n",
    "\n",
    "model = SentenceTransformer('sentence-transformers/all-mpnet-base-v2')\n",
    "embeddings = model.encode(sentences)\n",
    "print(embeddings)"
   ]
  },
  {
   "cell_type": "markdown",
   "id": "103f2326",
   "metadata": {},
   "source": [
    "## Importando o Pandas"
   ]
  },
  {
   "cell_type": "code",
   "execution_count": 4,
   "id": "291505bd",
   "metadata": {},
   "outputs": [],
   "source": [
    "import pandas as pd"
   ]
  },
  {
   "cell_type": "markdown",
   "id": "57a936af",
   "metadata": {},
   "source": [
    "## Importando a Base de Treinamento"
   ]
  },
  {
   "cell_type": "code",
   "execution_count": 5,
   "id": "cce876ec",
   "metadata": {},
   "outputs": [],
   "source": [
    "df_train = pd.read_csv('df_train_wands.csv')"
   ]
  },
  {
   "cell_type": "markdown",
   "id": "cbbf6997",
   "metadata": {},
   "source": [
    "## Consulta do Cabeçalho"
   ]
  },
  {
   "cell_type": "code",
   "execution_count": 6,
   "id": "ed6d2eb2",
   "metadata": {},
   "outputs": [
    {
     "data": {
      "text/html": [
       "<div>\n",
       "<style scoped>\n",
       "    .dataframe tbody tr th:only-of-type {\n",
       "        vertical-align: middle;\n",
       "    }\n",
       "\n",
       "    .dataframe tbody tr th {\n",
       "        vertical-align: top;\n",
       "    }\n",
       "\n",
       "    .dataframe thead th {\n",
       "        text-align: right;\n",
       "    }\n",
       "</style>\n",
       "<table border=\"1\" class=\"dataframe\">\n",
       "  <thead>\n",
       "    <tr style=\"text-align: right;\">\n",
       "      <th></th>\n",
       "      <th>product_id</th>\n",
       "      <th>product_name</th>\n",
       "      <th>product_description</th>\n",
       "      <th>query</th>\n",
       "      <th>label</th>\n",
       "    </tr>\n",
       "  </thead>\n",
       "  <tbody>\n",
       "    <tr>\n",
       "      <th>0</th>\n",
       "      <td>38855</td>\n",
       "      <td>abheer floor shelf coffee table</td>\n",
       "      <td>when it comes to rounding out your living ense...</td>\n",
       "      <td>smart coffee table</td>\n",
       "      <td>0.5</td>\n",
       "    </tr>\n",
       "    <tr>\n",
       "      <th>1</th>\n",
       "      <td>9929</td>\n",
       "      <td>addaly abstract coffee table</td>\n",
       "      <td>anchor your living room in mid-century style w...</td>\n",
       "      <td>smart coffee table</td>\n",
       "      <td>1.0</td>\n",
       "    </tr>\n",
       "    <tr>\n",
       "      <th>2</th>\n",
       "      <td>5235</td>\n",
       "      <td>adoni coffee table</td>\n",
       "      <td>NaN</td>\n",
       "      <td>smart coffee table</td>\n",
       "      <td>1.0</td>\n",
       "    </tr>\n",
       "    <tr>\n",
       "      <th>3</th>\n",
       "      <td>26772</td>\n",
       "      <td>ahart frame coffee table</td>\n",
       "      <td>your coffee table is a style centerpiece for y...</td>\n",
       "      <td>smart coffee table</td>\n",
       "      <td>0.5</td>\n",
       "    </tr>\n",
       "    <tr>\n",
       "      <th>4</th>\n",
       "      <td>3510</td>\n",
       "      <td>ahern coffee table</td>\n",
       "      <td>the ahern 4 legs coffee table with storage is ...</td>\n",
       "      <td>smart coffee table</td>\n",
       "      <td>0.5</td>\n",
       "    </tr>\n",
       "  </tbody>\n",
       "</table>\n",
       "</div>"
      ],
      "text/plain": [
       "   product_id                     product_name  \\\n",
       "0       38855  abheer floor shelf coffee table   \n",
       "1        9929     addaly abstract coffee table   \n",
       "2        5235               adoni coffee table   \n",
       "3       26772         ahart frame coffee table   \n",
       "4        3510               ahern coffee table   \n",
       "\n",
       "                                 product_description               query  \\\n",
       "0  when it comes to rounding out your living ense...  smart coffee table   \n",
       "1  anchor your living room in mid-century style w...  smart coffee table   \n",
       "2                                                NaN  smart coffee table   \n",
       "3  your coffee table is a style centerpiece for y...  smart coffee table   \n",
       "4  the ahern 4 legs coffee table with storage is ...  smart coffee table   \n",
       "\n",
       "   label  \n",
       "0    0.5  \n",
       "1    1.0  \n",
       "2    1.0  \n",
       "3    0.5  \n",
       "4    0.5  "
      ]
     },
     "execution_count": 6,
     "metadata": {},
     "output_type": "execute_result"
    }
   ],
   "source": [
    "df_train.head()"
   ]
  },
  {
   "cell_type": "code",
   "execution_count": 7,
   "id": "e82c3d66",
   "metadata": {},
   "outputs": [
    {
     "data": {
      "text/html": [
       "<div>\n",
       "<style scoped>\n",
       "    .dataframe tbody tr th:only-of-type {\n",
       "        vertical-align: middle;\n",
       "    }\n",
       "\n",
       "    .dataframe tbody tr th {\n",
       "        vertical-align: top;\n",
       "    }\n",
       "\n",
       "    .dataframe thead th {\n",
       "        text-align: right;\n",
       "    }\n",
       "</style>\n",
       "<table border=\"1\" class=\"dataframe\">\n",
       "  <thead>\n",
       "    <tr style=\"text-align: right;\">\n",
       "      <th></th>\n",
       "      <th>product_id</th>\n",
       "      <th>product_name</th>\n",
       "      <th>product_description</th>\n",
       "      <th>query</th>\n",
       "      <th>label</th>\n",
       "    </tr>\n",
       "  </thead>\n",
       "  <tbody>\n",
       "    <tr>\n",
       "      <th>0</th>\n",
       "      <td>38855</td>\n",
       "      <td>abheer floor shelf coffee table</td>\n",
       "      <td>when it comes to rounding out your living ense...</td>\n",
       "      <td>smart coffee table</td>\n",
       "      <td>1.0</td>\n",
       "    </tr>\n",
       "    <tr>\n",
       "      <th>1</th>\n",
       "      <td>9929</td>\n",
       "      <td>addaly abstract coffee table</td>\n",
       "      <td>anchor your living room in mid-century style w...</td>\n",
       "      <td>smart coffee table</td>\n",
       "      <td>2.0</td>\n",
       "    </tr>\n",
       "    <tr>\n",
       "      <th>2</th>\n",
       "      <td>5235</td>\n",
       "      <td>adoni coffee table</td>\n",
       "      <td>NaN</td>\n",
       "      <td>smart coffee table</td>\n",
       "      <td>2.0</td>\n",
       "    </tr>\n",
       "    <tr>\n",
       "      <th>3</th>\n",
       "      <td>26772</td>\n",
       "      <td>ahart frame coffee table</td>\n",
       "      <td>your coffee table is a style centerpiece for y...</td>\n",
       "      <td>smart coffee table</td>\n",
       "      <td>1.0</td>\n",
       "    </tr>\n",
       "    <tr>\n",
       "      <th>4</th>\n",
       "      <td>3510</td>\n",
       "      <td>ahern coffee table</td>\n",
       "      <td>the ahern 4 legs coffee table with storage is ...</td>\n",
       "      <td>smart coffee table</td>\n",
       "      <td>1.0</td>\n",
       "    </tr>\n",
       "    <tr>\n",
       "      <th>...</th>\n",
       "      <td>...</td>\n",
       "      <td>...</td>\n",
       "      <td>...</td>\n",
       "      <td>...</td>\n",
       "      <td>...</td>\n",
       "    </tr>\n",
       "    <tr>\n",
       "      <th>142319</th>\n",
       "      <td>15439</td>\n",
       "      <td>fellsburg linen upholstered parsons chair</td>\n",
       "      <td>NaN</td>\n",
       "      <td>worn leather office chair</td>\n",
       "      <td>1.0</td>\n",
       "    </tr>\n",
       "    <tr>\n",
       "      <th>142320</th>\n",
       "      <td>451</td>\n",
       "      <td>olin upholstered side chair</td>\n",
       "      <td>if you are looking for a simple yet sleek dini...</td>\n",
       "      <td>worn leather office chair</td>\n",
       "      <td>1.0</td>\n",
       "    </tr>\n",
       "    <tr>\n",
       "      <th>142321</th>\n",
       "      <td>30764</td>\n",
       "      <td>barbay lounge chair cushion</td>\n",
       "      <td>NaN</td>\n",
       "      <td>worn leather office chair</td>\n",
       "      <td>0.0</td>\n",
       "    </tr>\n",
       "    <tr>\n",
       "      <th>142322</th>\n",
       "      <td>16796</td>\n",
       "      <td>haings upholstered parsons chair</td>\n",
       "      <td>this set of 2 armless side chairs boasts an up...</td>\n",
       "      <td>worn leather office chair</td>\n",
       "      <td>1.0</td>\n",
       "    </tr>\n",
       "    <tr>\n",
       "      <th>142323</th>\n",
       "      <td>30764</td>\n",
       "      <td>barbay lounge chair cushion</td>\n",
       "      <td>NaN</td>\n",
       "      <td>54 in bench cushion</td>\n",
       "      <td>1.0</td>\n",
       "    </tr>\n",
       "  </tbody>\n",
       "</table>\n",
       "<p>142324 rows × 5 columns</p>\n",
       "</div>"
      ],
      "text/plain": [
       "        product_id                               product_name  \\\n",
       "0            38855            abheer floor shelf coffee table   \n",
       "1             9929               addaly abstract coffee table   \n",
       "2             5235                         adoni coffee table   \n",
       "3            26772                   ahart frame coffee table   \n",
       "4             3510                         ahern coffee table   \n",
       "...            ...                                        ...   \n",
       "142319       15439  fellsburg linen upholstered parsons chair   \n",
       "142320         451                olin upholstered side chair   \n",
       "142321       30764                barbay lounge chair cushion   \n",
       "142322       16796           haings upholstered parsons chair   \n",
       "142323       30764                barbay lounge chair cushion   \n",
       "\n",
       "                                      product_description  \\\n",
       "0       when it comes to rounding out your living ense...   \n",
       "1       anchor your living room in mid-century style w...   \n",
       "2                                                     NaN   \n",
       "3       your coffee table is a style centerpiece for y...   \n",
       "4       the ahern 4 legs coffee table with storage is ...   \n",
       "...                                                   ...   \n",
       "142319                                                NaN   \n",
       "142320  if you are looking for a simple yet sleek dini...   \n",
       "142321                                                NaN   \n",
       "142322  this set of 2 armless side chairs boasts an up...   \n",
       "142323                                                NaN   \n",
       "\n",
       "                            query  label  \n",
       "0              smart coffee table    1.0  \n",
       "1              smart coffee table    2.0  \n",
       "2              smart coffee table    2.0  \n",
       "3              smart coffee table    1.0  \n",
       "4              smart coffee table    1.0  \n",
       "...                           ...    ...  \n",
       "142319  worn leather office chair    1.0  \n",
       "142320  worn leather office chair    1.0  \n",
       "142321  worn leather office chair    0.0  \n",
       "142322  worn leather office chair    1.0  \n",
       "142323        54 in bench cushion    1.0  \n",
       "\n",
       "[142324 rows x 5 columns]"
      ]
     },
     "execution_count": 7,
     "metadata": {},
     "output_type": "execute_result"
    }
   ],
   "source": [
    "df_train[\"label\"] = df_train[\"label\"].replace({0.0: 0, 0.5: 1, 1.0: 2})\n",
    "df_train"
   ]
  },
  {
   "cell_type": "code",
   "execution_count": 8,
   "id": "b24a47c3",
   "metadata": {},
   "outputs": [],
   "source": [
    "import numpy as np\n",
    "df_train['label'] = df_train['label'].astype(np.int64)"
   ]
  },
  {
   "cell_type": "code",
   "execution_count": 9,
   "id": "40193ef7",
   "metadata": {},
   "outputs": [
    {
     "data": {
      "text/html": [
       "<div>\n",
       "<style scoped>\n",
       "    .dataframe tbody tr th:only-of-type {\n",
       "        vertical-align: middle;\n",
       "    }\n",
       "\n",
       "    .dataframe tbody tr th {\n",
       "        vertical-align: top;\n",
       "    }\n",
       "\n",
       "    .dataframe thead th {\n",
       "        text-align: right;\n",
       "    }\n",
       "</style>\n",
       "<table border=\"1\" class=\"dataframe\">\n",
       "  <thead>\n",
       "    <tr style=\"text-align: right;\">\n",
       "      <th></th>\n",
       "      <th>product_id</th>\n",
       "      <th>product_name</th>\n",
       "      <th>product_description</th>\n",
       "      <th>query</th>\n",
       "      <th>label</th>\n",
       "    </tr>\n",
       "  </thead>\n",
       "  <tbody>\n",
       "    <tr>\n",
       "      <th>0</th>\n",
       "      <td>38855</td>\n",
       "      <td>abheer floor shelf coffee table</td>\n",
       "      <td>when it comes to rounding out your living ense...</td>\n",
       "      <td>smart coffee table</td>\n",
       "      <td>1</td>\n",
       "    </tr>\n",
       "    <tr>\n",
       "      <th>1</th>\n",
       "      <td>9929</td>\n",
       "      <td>addaly abstract coffee table</td>\n",
       "      <td>anchor your living room in mid-century style w...</td>\n",
       "      <td>smart coffee table</td>\n",
       "      <td>2</td>\n",
       "    </tr>\n",
       "    <tr>\n",
       "      <th>2</th>\n",
       "      <td>5235</td>\n",
       "      <td>adoni coffee table</td>\n",
       "      <td>NaN</td>\n",
       "      <td>smart coffee table</td>\n",
       "      <td>2</td>\n",
       "    </tr>\n",
       "    <tr>\n",
       "      <th>3</th>\n",
       "      <td>26772</td>\n",
       "      <td>ahart frame coffee table</td>\n",
       "      <td>your coffee table is a style centerpiece for y...</td>\n",
       "      <td>smart coffee table</td>\n",
       "      <td>1</td>\n",
       "    </tr>\n",
       "    <tr>\n",
       "      <th>4</th>\n",
       "      <td>3510</td>\n",
       "      <td>ahern coffee table</td>\n",
       "      <td>the ahern 4 legs coffee table with storage is ...</td>\n",
       "      <td>smart coffee table</td>\n",
       "      <td>1</td>\n",
       "    </tr>\n",
       "    <tr>\n",
       "      <th>...</th>\n",
       "      <td>...</td>\n",
       "      <td>...</td>\n",
       "      <td>...</td>\n",
       "      <td>...</td>\n",
       "      <td>...</td>\n",
       "    </tr>\n",
       "    <tr>\n",
       "      <th>142319</th>\n",
       "      <td>15439</td>\n",
       "      <td>fellsburg linen upholstered parsons chair</td>\n",
       "      <td>NaN</td>\n",
       "      <td>worn leather office chair</td>\n",
       "      <td>1</td>\n",
       "    </tr>\n",
       "    <tr>\n",
       "      <th>142320</th>\n",
       "      <td>451</td>\n",
       "      <td>olin upholstered side chair</td>\n",
       "      <td>if you are looking for a simple yet sleek dini...</td>\n",
       "      <td>worn leather office chair</td>\n",
       "      <td>1</td>\n",
       "    </tr>\n",
       "    <tr>\n",
       "      <th>142321</th>\n",
       "      <td>30764</td>\n",
       "      <td>barbay lounge chair cushion</td>\n",
       "      <td>NaN</td>\n",
       "      <td>worn leather office chair</td>\n",
       "      <td>0</td>\n",
       "    </tr>\n",
       "    <tr>\n",
       "      <th>142322</th>\n",
       "      <td>16796</td>\n",
       "      <td>haings upholstered parsons chair</td>\n",
       "      <td>this set of 2 armless side chairs boasts an up...</td>\n",
       "      <td>worn leather office chair</td>\n",
       "      <td>1</td>\n",
       "    </tr>\n",
       "    <tr>\n",
       "      <th>142323</th>\n",
       "      <td>30764</td>\n",
       "      <td>barbay lounge chair cushion</td>\n",
       "      <td>NaN</td>\n",
       "      <td>54 in bench cushion</td>\n",
       "      <td>1</td>\n",
       "    </tr>\n",
       "  </tbody>\n",
       "</table>\n",
       "<p>142324 rows × 5 columns</p>\n",
       "</div>"
      ],
      "text/plain": [
       "        product_id                               product_name  \\\n",
       "0            38855            abheer floor shelf coffee table   \n",
       "1             9929               addaly abstract coffee table   \n",
       "2             5235                         adoni coffee table   \n",
       "3            26772                   ahart frame coffee table   \n",
       "4             3510                         ahern coffee table   \n",
       "...            ...                                        ...   \n",
       "142319       15439  fellsburg linen upholstered parsons chair   \n",
       "142320         451                olin upholstered side chair   \n",
       "142321       30764                barbay lounge chair cushion   \n",
       "142322       16796           haings upholstered parsons chair   \n",
       "142323       30764                barbay lounge chair cushion   \n",
       "\n",
       "                                      product_description  \\\n",
       "0       when it comes to rounding out your living ense...   \n",
       "1       anchor your living room in mid-century style w...   \n",
       "2                                                     NaN   \n",
       "3       your coffee table is a style centerpiece for y...   \n",
       "4       the ahern 4 legs coffee table with storage is ...   \n",
       "...                                                   ...   \n",
       "142319                                                NaN   \n",
       "142320  if you are looking for a simple yet sleek dini...   \n",
       "142321                                                NaN   \n",
       "142322  this set of 2 armless side chairs boasts an up...   \n",
       "142323                                                NaN   \n",
       "\n",
       "                            query  label  \n",
       "0              smart coffee table      1  \n",
       "1              smart coffee table      2  \n",
       "2              smart coffee table      2  \n",
       "3              smart coffee table      1  \n",
       "4              smart coffee table      1  \n",
       "...                           ...    ...  \n",
       "142319  worn leather office chair      1  \n",
       "142320  worn leather office chair      1  \n",
       "142321  worn leather office chair      0  \n",
       "142322  worn leather office chair      1  \n",
       "142323        54 in bench cushion      1  \n",
       "\n",
       "[142324 rows x 5 columns]"
      ]
     },
     "execution_count": 9,
     "metadata": {},
     "output_type": "execute_result"
    }
   ],
   "source": [
    "df_train"
   ]
  },
  {
   "cell_type": "markdown",
   "id": "e9fd4e9e",
   "metadata": {},
   "source": [
    "## Substituição de float('NaN') por String Vazia"
   ]
  },
  {
   "cell_type": "code",
   "execution_count": 10,
   "id": "5df7e318",
   "metadata": {},
   "outputs": [
    {
     "data": {
      "text/html": [
       "<div>\n",
       "<style scoped>\n",
       "    .dataframe tbody tr th:only-of-type {\n",
       "        vertical-align: middle;\n",
       "    }\n",
       "\n",
       "    .dataframe tbody tr th {\n",
       "        vertical-align: top;\n",
       "    }\n",
       "\n",
       "    .dataframe thead th {\n",
       "        text-align: right;\n",
       "    }\n",
       "</style>\n",
       "<table border=\"1\" class=\"dataframe\">\n",
       "  <thead>\n",
       "    <tr style=\"text-align: right;\">\n",
       "      <th></th>\n",
       "      <th>product_id</th>\n",
       "      <th>product_name</th>\n",
       "      <th>product_description</th>\n",
       "      <th>query</th>\n",
       "      <th>label</th>\n",
       "    </tr>\n",
       "  </thead>\n",
       "  <tbody>\n",
       "    <tr>\n",
       "      <th>0</th>\n",
       "      <td>38855</td>\n",
       "      <td>abheer floor shelf coffee table</td>\n",
       "      <td>when it comes to rounding out your living ense...</td>\n",
       "      <td>smart coffee table</td>\n",
       "      <td>1</td>\n",
       "    </tr>\n",
       "    <tr>\n",
       "      <th>1</th>\n",
       "      <td>9929</td>\n",
       "      <td>addaly abstract coffee table</td>\n",
       "      <td>anchor your living room in mid-century style w...</td>\n",
       "      <td>smart coffee table</td>\n",
       "      <td>2</td>\n",
       "    </tr>\n",
       "    <tr>\n",
       "      <th>2</th>\n",
       "      <td>5235</td>\n",
       "      <td>adoni coffee table</td>\n",
       "      <td></td>\n",
       "      <td>smart coffee table</td>\n",
       "      <td>2</td>\n",
       "    </tr>\n",
       "    <tr>\n",
       "      <th>3</th>\n",
       "      <td>26772</td>\n",
       "      <td>ahart frame coffee table</td>\n",
       "      <td>your coffee table is a style centerpiece for y...</td>\n",
       "      <td>smart coffee table</td>\n",
       "      <td>1</td>\n",
       "    </tr>\n",
       "    <tr>\n",
       "      <th>4</th>\n",
       "      <td>3510</td>\n",
       "      <td>ahern coffee table</td>\n",
       "      <td>the ahern 4 legs coffee table with storage is ...</td>\n",
       "      <td>smart coffee table</td>\n",
       "      <td>1</td>\n",
       "    </tr>\n",
       "    <tr>\n",
       "      <th>...</th>\n",
       "      <td>...</td>\n",
       "      <td>...</td>\n",
       "      <td>...</td>\n",
       "      <td>...</td>\n",
       "      <td>...</td>\n",
       "    </tr>\n",
       "    <tr>\n",
       "      <th>142319</th>\n",
       "      <td>15439</td>\n",
       "      <td>fellsburg linen upholstered parsons chair</td>\n",
       "      <td></td>\n",
       "      <td>worn leather office chair</td>\n",
       "      <td>1</td>\n",
       "    </tr>\n",
       "    <tr>\n",
       "      <th>142320</th>\n",
       "      <td>451</td>\n",
       "      <td>olin upholstered side chair</td>\n",
       "      <td>if you are looking for a simple yet sleek dini...</td>\n",
       "      <td>worn leather office chair</td>\n",
       "      <td>1</td>\n",
       "    </tr>\n",
       "    <tr>\n",
       "      <th>142321</th>\n",
       "      <td>30764</td>\n",
       "      <td>barbay lounge chair cushion</td>\n",
       "      <td></td>\n",
       "      <td>worn leather office chair</td>\n",
       "      <td>0</td>\n",
       "    </tr>\n",
       "    <tr>\n",
       "      <th>142322</th>\n",
       "      <td>16796</td>\n",
       "      <td>haings upholstered parsons chair</td>\n",
       "      <td>this set of 2 armless side chairs boasts an up...</td>\n",
       "      <td>worn leather office chair</td>\n",
       "      <td>1</td>\n",
       "    </tr>\n",
       "    <tr>\n",
       "      <th>142323</th>\n",
       "      <td>30764</td>\n",
       "      <td>barbay lounge chair cushion</td>\n",
       "      <td></td>\n",
       "      <td>54 in bench cushion</td>\n",
       "      <td>1</td>\n",
       "    </tr>\n",
       "  </tbody>\n",
       "</table>\n",
       "<p>142324 rows × 5 columns</p>\n",
       "</div>"
      ],
      "text/plain": [
       "        product_id                               product_name  \\\n",
       "0            38855            abheer floor shelf coffee table   \n",
       "1             9929               addaly abstract coffee table   \n",
       "2             5235                         adoni coffee table   \n",
       "3            26772                   ahart frame coffee table   \n",
       "4             3510                         ahern coffee table   \n",
       "...            ...                                        ...   \n",
       "142319       15439  fellsburg linen upholstered parsons chair   \n",
       "142320         451                olin upholstered side chair   \n",
       "142321       30764                barbay lounge chair cushion   \n",
       "142322       16796           haings upholstered parsons chair   \n",
       "142323       30764                barbay lounge chair cushion   \n",
       "\n",
       "                                      product_description  \\\n",
       "0       when it comes to rounding out your living ense...   \n",
       "1       anchor your living room in mid-century style w...   \n",
       "2                                                           \n",
       "3       your coffee table is a style centerpiece for y...   \n",
       "4       the ahern 4 legs coffee table with storage is ...   \n",
       "...                                                   ...   \n",
       "142319                                                      \n",
       "142320  if you are looking for a simple yet sleek dini...   \n",
       "142321                                                      \n",
       "142322  this set of 2 armless side chairs boasts an up...   \n",
       "142323                                                      \n",
       "\n",
       "                            query  label  \n",
       "0              smart coffee table      1  \n",
       "1              smart coffee table      2  \n",
       "2              smart coffee table      2  \n",
       "3              smart coffee table      1  \n",
       "4              smart coffee table      1  \n",
       "...                           ...    ...  \n",
       "142319  worn leather office chair      1  \n",
       "142320  worn leather office chair      1  \n",
       "142321  worn leather office chair      0  \n",
       "142322  worn leather office chair      1  \n",
       "142323        54 in bench cushion      1  \n",
       "\n",
       "[142324 rows x 5 columns]"
      ]
     },
     "execution_count": 10,
     "metadata": {},
     "output_type": "execute_result"
    }
   ],
   "source": [
    "df_train['product_description'] = df_train['product_description'].replace(float(\"NaN\"), '')\n",
    "df_train"
   ]
  },
  {
   "cell_type": "markdown",
   "id": "d15968fa",
   "metadata": {},
   "source": [
    "## Convertendo a Base de Treino para o Formato InputExample"
   ]
  },
  {
   "cell_type": "code",
   "execution_count": 11,
   "id": "5a8011f0",
   "metadata": {},
   "outputs": [
    {
     "data": {
      "text/plain": [
       "'abheer floor shelf coffee table'"
      ]
     },
     "execution_count": 11,
     "metadata": {},
     "output_type": "execute_result"
    }
   ],
   "source": [
    "df_train['product_name'][0]"
   ]
  },
  {
   "cell_type": "code",
   "execution_count": 12,
   "id": "49e6428d",
   "metadata": {},
   "outputs": [],
   "source": [
    "from sentence_transformers import InputExample\n",
    "train_examples = []\n",
    "\n",
    "for i in range(len(df_train)):\n",
    "    label = df_train['label'][i]\n",
    "    train_examples.append(InputExample(texts=[[df_train['product_name'][i], df_train['product_description'][i]], df_train['query'][i]], label=label))\n",
    "\n",
    "\n",
    "train_examples = train_examples[:500]"
   ]
  },
  {
   "cell_type": "markdown",
   "id": "d474de89",
   "metadata": {},
   "source": [
    "## Convertendo os exemplos de treinamento em um arquivo Dataloader"
   ]
  },
  {
   "cell_type": "code",
   "execution_count": 13,
   "id": "f2475cd4",
   "metadata": {},
   "outputs": [],
   "source": [
    "from torch.utils.data import DataLoader\n",
    "\n",
    "train_dataloader = DataLoader(train_examples, shuffle=True, batch_size=16)"
   ]
  },
  {
   "cell_type": "markdown",
   "id": "c911fd15",
   "metadata": {},
   "source": [
    "## Definindo a função de perda"
   ]
  },
  {
   "cell_type": "markdown",
   "id": "e28fc3fc",
   "metadata": {},
   "source": [
    "Softmax Loss <br>\n",
    "Contrastive Loss"
   ]
  },
  {
   "cell_type": "code",
   "execution_count": 14,
   "id": "ab5376bb",
   "metadata": {},
   "outputs": [],
   "source": [
    "from sentence_transformers import losses\n",
    "\n",
    "train_loss = losses.SoftmaxLoss(model=model, sentence_embedding_dimension=model.get_sentence_embedding_dimension(), num_labels=3)"
   ]
  },
  {
   "cell_type": "code",
   "execution_count": 15,
   "id": "80cf6ea3",
   "metadata": {},
   "outputs": [
    {
     "name": "stdout",
     "output_type": "stream",
     "text": [
      "Requirement already satisfied: huggingface_hub in c:\\users\\ton2\\anaconda3\\lib\\site-packages (0.4.0)\n",
      "Requirement already satisfied: requests in c:\\users\\ton2\\anaconda3\\lib\\site-packages (from huggingface_hub) (2.26.0)\n",
      "Requirement already satisfied: tqdm in c:\\users\\ton2\\anaconda3\\lib\\site-packages (from huggingface_hub) (4.62.3)\n",
      "Requirement already satisfied: typing-extensions>=3.7.4.3 in c:\\users\\ton2\\anaconda3\\lib\\site-packages (from huggingface_hub) (3.10.0.2)\n",
      "Requirement already satisfied: pyyaml in c:\\users\\ton2\\anaconda3\\lib\\site-packages (from huggingface_hub) (6.0)\n",
      "Requirement already satisfied: packaging>=20.9 in c:\\users\\ton2\\anaconda3\\lib\\site-packages (from huggingface_hub) (21.0)\n",
      "Requirement already satisfied: filelock in c:\\users\\ton2\\anaconda3\\lib\\site-packages (from huggingface_hub) (3.3.1)\n",
      "Requirement already satisfied: pyparsing>=2.0.2 in c:\\users\\ton2\\anaconda3\\lib\\site-packages (from packaging>=20.9->huggingface_hub) (3.0.4)\n",
      "Requirement already satisfied: idna<4,>=2.5 in c:\\users\\ton2\\anaconda3\\lib\\site-packages (from requests->huggingface_hub) (3.2)\n",
      "Requirement already satisfied: certifi>=2017.4.17 in c:\\users\\ton2\\anaconda3\\lib\\site-packages (from requests->huggingface_hub) (2021.10.8)\n",
      "Requirement already satisfied: charset-normalizer~=2.0.0 in c:\\users\\ton2\\anaconda3\\lib\\site-packages (from requests->huggingface_hub) (2.0.4)\n",
      "Requirement already satisfied: urllib3<1.27,>=1.21.1 in c:\\users\\ton2\\anaconda3\\lib\\site-packages (from requests->huggingface_hub) (1.26.7)\n",
      "Requirement already satisfied: colorama in c:\\users\\ton2\\anaconda3\\lib\\site-packages (from tqdm->huggingface_hub) (0.4.4)\n",
      "Note: you may need to restart the kernel to use updated packages.\n"
     ]
    }
   ],
   "source": [
    "pip install huggingface_hub"
   ]
  },
  {
   "cell_type": "code",
   "execution_count": 16,
   "id": "9ce35445",
   "metadata": {},
   "outputs": [
    {
     "name": "stdout",
     "output_type": "stream",
     "text": [
      "Login successful\n",
      "Your token has been saved to C:\\Users\\ton2/.huggingface/token\n"
     ]
    }
   ],
   "source": [
    "from huggingface_hub import notebook_login\n",
    "notebook_login()"
   ]
  },
  {
   "cell_type": "markdown",
   "id": "5da0cbcf",
   "metadata": {},
   "source": [
    "## Treinamento do Modelo"
   ]
  },
  {
   "cell_type": "code",
   "execution_count": 17,
   "id": "e438afc5",
   "metadata": {},
   "outputs": [
    {
     "data": {
      "application/vnd.jupyter.widget-view+json": {
       "model_id": "88a1623bc5b1436cad27f5c004665d90",
       "version_major": 2,
       "version_minor": 0
      },
      "text/plain": [
       "Epoch:   0%|          | 0/1 [00:00<?, ?it/s]"
      ]
     },
     "metadata": {},
     "output_type": "display_data"
    },
    {
     "data": {
      "application/vnd.jupyter.widget-view+json": {
       "model_id": "a7250b8d77ec448fb21fd1f51a1777a0",
       "version_major": 2,
       "version_minor": 0
      },
      "text/plain": [
       "Iteration:   0%|          | 0/32 [00:00<?, ?it/s]"
      ]
     },
     "metadata": {},
     "output_type": "display_data"
    }
   ],
   "source": [
    "model.fit(train_objectives=[(train_dataloader, train_loss)], epochs=1) "
   ]
  },
  {
   "cell_type": "code",
   "execution_count": 19,
   "id": "9ca23908",
   "metadata": {},
   "outputs": [
    {
     "name": "stdout",
     "output_type": "stream",
     "text": [
      "Similarity: tensor([[0.6152, 0.7009]])\n"
     ]
    }
   ],
   "source": [
    "from sentence_transformers import SentenceTransformer, util\n",
    "\n",
    "query_embedding = model.encode(\"salon chair\")\n",
    "passage_embedding = model.encode([\"metal  chair\",\n",
    "                                  \"the heavy duty barber chair is built to last\"])\n",
    "\n",
    "print(\"Similarity:\", util.dot_score(query_embedding, passage_embedding))"
   ]
  },
  {
   "cell_type": "code",
   "execution_count": 20,
   "id": "d15c4b0a",
   "metadata": {},
   "outputs": [
    {
     "name": "stderr",
     "output_type": "stream",
     "text": [
      "C:\\Users\\ton2\\anaconda3\\lib\\site-packages\\huggingface_hub\\hf_api.py:1001: FutureWarning: `create_repo` now takes `token` as an optional positional argument. Be sure to adapt your code!\n",
      "  warnings.warn(\n",
      "Cloning https://huggingface.co/tubyneto/wandss-bert into local empty directory.\n"
     ]
    },
    {
     "data": {
      "application/vnd.jupyter.widget-view+json": {
       "model_id": "30d8ecdfc2bf41ba8e814d46f655ac8f",
       "version_major": 2,
       "version_minor": 0
      },
      "text/plain": [
       "Upload file pytorch_model.bin:   0%|          | 32.0k/418M [00:00<?, ?B/s]"
      ]
     },
     "metadata": {},
     "output_type": "display_data"
    },
    {
     "name": "stderr",
     "output_type": "stream",
     "text": [
      "remote: Scanning LFS files for validity, may be slow...        \n",
      "remote: LFS file scan complete.        \n",
      "To https://huggingface.co/tubyneto/wandss-bert\n",
      "   be1132a..1aea0c6  main -> main\n",
      "\n"
     ]
    },
    {
     "data": {
      "text/plain": [
       "'https://huggingface.co/tubyneto/wandss-bert/commit/1aea0c6a33183fde9ef0bfaceefa4e888c3b877d'"
      ]
     },
     "execution_count": 20,
     "metadata": {},
     "output_type": "execute_result"
    }
   ],
   "source": [
    "model.save_to_hub(\"wandss-bert\")"
   ]
  },
  {
   "cell_type": "code",
   "execution_count": 21,
   "id": "be70bbbf",
   "metadata": {},
   "outputs": [
    {
     "data": {
      "application/vnd.jupyter.widget-view+json": {
       "model_id": "2f44095baab748c6b517aa39ac0f2684",
       "version_major": 2,
       "version_minor": 0
      },
      "text/plain": [
       "Downloading:   0%|          | 0.00/1.44k [00:00<?, ?B/s]"
      ]
     },
     "metadata": {},
     "output_type": "display_data"
    },
    {
     "data": {
      "application/vnd.jupyter.widget-view+json": {
       "model_id": "0c22f52f50b34245abb85214a6dedc14",
       "version_major": 2,
       "version_minor": 0
      },
      "text/plain": [
       "Downloading:   0%|          | 0.00/190 [00:00<?, ?B/s]"
      ]
     },
     "metadata": {},
     "output_type": "display_data"
    },
    {
     "data": {
      "application/vnd.jupyter.widget-view+json": {
       "model_id": "8be6c951517e4a3ebe025784f410ffd9",
       "version_major": 2,
       "version_minor": 0
      },
      "text/plain": [
       "Downloading:   0%|          | 0.00/2.26k [00:00<?, ?B/s]"
      ]
     },
     "metadata": {},
     "output_type": "display_data"
    },
    {
     "data": {
      "application/vnd.jupyter.widget-view+json": {
       "model_id": "6e5401433ebd48f2926291ffd89e89d8",
       "version_major": 2,
       "version_minor": 0
      },
      "text/plain": [
       "Downloading:   0%|          | 0.00/669 [00:00<?, ?B/s]"
      ]
     },
     "metadata": {},
     "output_type": "display_data"
    },
    {
     "data": {
      "application/vnd.jupyter.widget-view+json": {
       "model_id": "72e443dc50854667b5f07999740521ae",
       "version_major": 2,
       "version_minor": 0
      },
      "text/plain": [
       "Downloading:   0%|          | 0.00/116 [00:00<?, ?B/s]"
      ]
     },
     "metadata": {},
     "output_type": "display_data"
    },
    {
     "data": {
      "application/vnd.jupyter.widget-view+json": {
       "model_id": "d6ac215ba036482f99a1b520ca2c0605",
       "version_major": 2,
       "version_minor": 0
      },
      "text/plain": [
       "Downloading:   0%|          | 0.00/438M [00:00<?, ?B/s]"
      ]
     },
     "metadata": {},
     "output_type": "display_data"
    },
    {
     "data": {
      "application/vnd.jupyter.widget-view+json": {
       "model_id": "9e37bdc380274297b0feb4ea3b1f529d",
       "version_major": 2,
       "version_minor": 0
      },
      "text/plain": [
       "Downloading:   0%|          | 0.00/53.0 [00:00<?, ?B/s]"
      ]
     },
     "metadata": {},
     "output_type": "display_data"
    },
    {
     "data": {
      "application/vnd.jupyter.widget-view+json": {
       "model_id": "8be8e4aae89347c0aca63aad55a5b7ad",
       "version_major": 2,
       "version_minor": 0
      },
      "text/plain": [
       "Downloading:   0%|          | 0.00/239 [00:00<?, ?B/s]"
      ]
     },
     "metadata": {},
     "output_type": "display_data"
    },
    {
     "data": {
      "application/vnd.jupyter.widget-view+json": {
       "model_id": "f03f9c6b374448d998a31c5a51ee22d3",
       "version_major": 2,
       "version_minor": 0
      },
      "text/plain": [
       "Downloading:   0%|          | 0.00/711k [00:00<?, ?B/s]"
      ]
     },
     "metadata": {},
     "output_type": "display_data"
    },
    {
     "data": {
      "application/vnd.jupyter.widget-view+json": {
       "model_id": "986b83e4e5774815ba3bcd8600151116",
       "version_major": 2,
       "version_minor": 0
      },
      "text/plain": [
       "Downloading:   0%|          | 0.00/438 [00:00<?, ?B/s]"
      ]
     },
     "metadata": {},
     "output_type": "display_data"
    },
    {
     "data": {
      "application/vnd.jupyter.widget-view+json": {
       "model_id": "8668c41a65d34ed89c0de1a1b0ae48f4",
       "version_major": 2,
       "version_minor": 0
      },
      "text/plain": [
       "Downloading:   0%|          | 0.00/232k [00:00<?, ?B/s]"
      ]
     },
     "metadata": {},
     "output_type": "display_data"
    },
    {
     "data": {
      "application/vnd.jupyter.widget-view+json": {
       "model_id": "89b7e4c70a26402abdf78f9814813428",
       "version_major": 2,
       "version_minor": 0
      },
      "text/plain": [
       "Downloading:   0%|          | 0.00/349 [00:00<?, ?B/s]"
      ]
     },
     "metadata": {},
     "output_type": "display_data"
    }
   ],
   "source": [
    "model = SentenceTransformer('tubyneto/wandss-bert')"
   ]
  },
  {
   "cell_type": "code",
   "execution_count": 23,
   "id": "0d8e710f",
   "metadata": {},
   "outputs": [
    {
     "name": "stdout",
     "output_type": "stream",
     "text": [
      "Similarity: tensor([[0.5672, 0.7009]])\n"
     ]
    }
   ],
   "source": [
    "from sentence_transformers import SentenceTransformer, util\n",
    "\n",
    "query_embedding = model.encode(\"salon chair\")\n",
    "passage_embedding = model.encode([\"metal salon frame\",\n",
    "                                  \"the heavy duty barber chair is built to last\"])\n",
    "\n",
    "print(\"Similarity:\", util.dot_score(query_embedding, passage_embedding))"
   ]
  },
  {
   "cell_type": "code",
   "execution_count": null,
   "id": "67f41f89",
   "metadata": {},
   "outputs": [],
   "source": []
  }
 ],
 "metadata": {
  "kernelspec": {
   "display_name": "gpu",
   "language": "python",
   "name": "gpu"
  },
  "language_info": {
   "codemirror_mode": {
    "name": "ipython",
    "version": 3
   },
   "file_extension": ".py",
   "mimetype": "text/x-python",
   "name": "python",
   "nbconvert_exporter": "python",
   "pygments_lexer": "ipython3",
   "version": "3.9.7"
  }
 },
 "nbformat": 4,
 "nbformat_minor": 5
}
