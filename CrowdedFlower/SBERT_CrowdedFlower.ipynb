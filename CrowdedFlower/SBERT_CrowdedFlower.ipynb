{
 "cells": [
  {
   "cell_type": "markdown",
   "id": "fd4b603b",
   "metadata": {},
   "source": [
    "## Instalação da Biblioteca sentence-transformers"
   ]
  },
  {
   "cell_type": "code",
   "execution_count": 1,
   "id": "6a19b383",
   "metadata": {
    "scrolled": true
   },
   "outputs": [
    {
     "name": "stdout",
     "output_type": "stream",
     "text": [
      "Requirement already satisfied: sentence-transformers in c:\\users\\ton2\\anaconda3\\lib\\site-packages (2.2.2)\n",
      "Requirement already satisfied: sentencepiece in c:\\users\\ton2\\anaconda3\\lib\\site-packages (from sentence-transformers) (0.1.96)\n",
      "Requirement already satisfied: scipy in c:\\users\\ton2\\anaconda3\\lib\\site-packages (from sentence-transformers) (1.7.1)\n",
      "Requirement already satisfied: scikit-learn in c:\\users\\ton2\\anaconda3\\lib\\site-packages (from sentence-transformers) (0.24.2)\n",
      "Requirement already satisfied: tqdm in c:\\users\\ton2\\anaconda3\\lib\\site-packages (from sentence-transformers) (4.62.3)\n",
      "Requirement already satisfied: torch>=1.6.0 in c:\\users\\ton2\\anaconda3\\lib\\site-packages (from sentence-transformers) (1.11.0)\n",
      "Requirement already satisfied: huggingface-hub>=0.4.0 in c:\\users\\ton2\\anaconda3\\lib\\site-packages (from sentence-transformers) (0.4.0)\n",
      "Requirement already satisfied: numpy in c:\\users\\ton2\\anaconda3\\lib\\site-packages (from sentence-transformers) (1.20.3)\n",
      "Requirement already satisfied: transformers<5.0.0,>=4.6.0 in c:\\users\\ton2\\anaconda3\\lib\\site-packages (from sentence-transformers) (4.17.0)\n",
      "Requirement already satisfied: torchvision in c:\\users\\ton2\\anaconda3\\lib\\site-packages (from sentence-transformers) (0.12.0)\n",
      "Requirement already satisfied: nltk in c:\\users\\ton2\\anaconda3\\lib\\site-packages (from sentence-transformers) (3.6.5)\n",
      "Requirement already satisfied: requests in c:\\users\\ton2\\anaconda3\\lib\\site-packages (from huggingface-hub>=0.4.0->sentence-transformers) (2.26.0)\n",
      "Requirement already satisfied: filelock in c:\\users\\ton2\\anaconda3\\lib\\site-packages (from huggingface-hub>=0.4.0->sentence-transformers) (3.3.1)\n",
      "Requirement already satisfied: packaging>=20.9 in c:\\users\\ton2\\anaconda3\\lib\\site-packages (from huggingface-hub>=0.4.0->sentence-transformers) (21.0)\n",
      "Requirement already satisfied: pyyaml in c:\\users\\ton2\\anaconda3\\lib\\site-packages (from huggingface-hub>=0.4.0->sentence-transformers) (6.0)\n",
      "Requirement already satisfied: typing-extensions>=3.7.4.3 in c:\\users\\ton2\\anaconda3\\lib\\site-packages (from huggingface-hub>=0.4.0->sentence-transformers) (3.10.0.2)\n",
      "Requirement already satisfied: pyparsing>=2.0.2 in c:\\users\\ton2\\anaconda3\\lib\\site-packages (from packaging>=20.9->huggingface-hub>=0.4.0->sentence-transformers) (3.0.4)\n",
      "Requirement already satisfied: regex!=2019.12.17 in c:\\users\\ton2\\anaconda3\\lib\\site-packages (from transformers<5.0.0,>=4.6.0->sentence-transformers) (2021.8.3)\n",
      "Requirement already satisfied: tokenizers!=0.11.3,>=0.11.1 in c:\\users\\ton2\\anaconda3\\lib\\site-packages (from transformers<5.0.0,>=4.6.0->sentence-transformers) (0.12.0)\n",
      "Requirement already satisfied: sacremoses in c:\\users\\ton2\\anaconda3\\lib\\site-packages (from transformers<5.0.0,>=4.6.0->sentence-transformers) (0.0.49)\n",
      "Requirement already satisfied: colorama in c:\\users\\ton2\\anaconda3\\lib\\site-packages (from tqdm->sentence-transformers) (0.4.4)\n",
      "Requirement already satisfied: click in c:\\users\\ton2\\anaconda3\\lib\\site-packages (from nltk->sentence-transformers) (8.0.3)\n",
      "Requirement already satisfied: joblib in c:\\users\\ton2\\anaconda3\\lib\\site-packages (from nltk->sentence-transformers) (1.1.0)\n",
      "Requirement already satisfied: urllib3<1.27,>=1.21.1 in c:\\users\\ton2\\anaconda3\\lib\\site-packages (from requests->huggingface-hub>=0.4.0->sentence-transformers) (1.26.7)\n",
      "Requirement already satisfied: idna<4,>=2.5 in c:\\users\\ton2\\anaconda3\\lib\\site-packages (from requests->huggingface-hub>=0.4.0->sentence-transformers) (3.2)\n",
      "Requirement already satisfied: certifi>=2017.4.17 in c:\\users\\ton2\\anaconda3\\lib\\site-packages (from requests->huggingface-hub>=0.4.0->sentence-transformers) (2021.10.8)\n",
      "Requirement already satisfied: charset-normalizer~=2.0.0 in c:\\users\\ton2\\anaconda3\\lib\\site-packages (from requests->huggingface-hub>=0.4.0->sentence-transformers) (2.0.4)\n",
      "Requirement already satisfied: six in c:\\users\\ton2\\anaconda3\\lib\\site-packages (from sacremoses->transformers<5.0.0,>=4.6.0->sentence-transformers) (1.16.0)\n",
      "Requirement already satisfied: threadpoolctl>=2.0.0 in c:\\users\\ton2\\anaconda3\\lib\\site-packages (from scikit-learn->sentence-transformers) (2.2.0)\n",
      "Requirement already satisfied: pillow!=8.3.*,>=5.3.0 in c:\\users\\ton2\\anaconda3\\lib\\site-packages (from torchvision->sentence-transformers) (8.4.0)\n",
      "Note: you may need to restart the kernel to use updated packages.\n"
     ]
    }
   ],
   "source": [
    "pip install -U sentence-transformers"
   ]
  },
  {
   "cell_type": "markdown",
   "id": "ce0a92b4",
   "metadata": {},
   "source": [
    "## Definição do Modelo"
   ]
  },
  {
   "cell_type": "code",
   "execution_count": 2,
   "id": "7d0dcf55",
   "metadata": {},
   "outputs": [],
   "source": [
    "from sentence_transformers import SentenceTransformer\n",
    "\n",
    "model_id = 'sentence-transformers/all-mpnet-base-v2'\n",
    "model = SentenceTransformer(model_id)"
   ]
  },
  {
   "cell_type": "code",
   "execution_count": 3,
   "id": "976a9635",
   "metadata": {},
   "outputs": [
    {
     "name": "stdout",
     "output_type": "stream",
     "text": [
      "[[ 0.0225026  -0.07829181 -0.02303074 ... -0.00827927  0.02652692\n",
      "  -0.00201897]\n",
      " [ 0.04170236  0.0010974  -0.01553418 ... -0.02181627 -0.0635936\n",
      "  -0.00875284]]\n"
     ]
    }
   ],
   "source": [
    "from sentence_transformers import SentenceTransformer\n",
    "sentences = [\"This is an example sentence\", \"Each sentence is converted\"]\n",
    "\n",
    "model = SentenceTransformer('sentence-transformers/all-mpnet-base-v2')\n",
    "embeddings = model.encode(sentences)\n",
    "print(embeddings)"
   ]
  },
  {
   "cell_type": "markdown",
   "id": "103f2326",
   "metadata": {},
   "source": [
    "## Importando o Pandas"
   ]
  },
  {
   "cell_type": "code",
   "execution_count": 4,
   "id": "291505bd",
   "metadata": {},
   "outputs": [],
   "source": [
    "import pandas as pd"
   ]
  },
  {
   "cell_type": "markdown",
   "id": "57a936af",
   "metadata": {},
   "source": [
    "## Importando a Base de Treinamento"
   ]
  },
  {
   "cell_type": "code",
   "execution_count": 36,
   "id": "cce876ec",
   "metadata": {},
   "outputs": [],
   "source": [
    "df_train = pd.read_csv('df_train_crowdedflower.csv')"
   ]
  },
  {
   "cell_type": "markdown",
   "id": "cbbf6997",
   "metadata": {},
   "source": [
    "## Consulta do Cabeçalho"
   ]
  },
  {
   "cell_type": "code",
   "execution_count": 37,
   "id": "ed6d2eb2",
   "metadata": {},
   "outputs": [
    {
     "data": {
      "text/html": [
       "<div>\n",
       "<style scoped>\n",
       "    .dataframe tbody tr th:only-of-type {\n",
       "        vertical-align: middle;\n",
       "    }\n",
       "\n",
       "    .dataframe tbody tr th {\n",
       "        vertical-align: top;\n",
       "    }\n",
       "\n",
       "    .dataframe thead th {\n",
       "        text-align: right;\n",
       "    }\n",
       "</style>\n",
       "<table border=\"1\" class=\"dataframe\">\n",
       "  <thead>\n",
       "    <tr style=\"text-align: right;\">\n",
       "      <th></th>\n",
       "      <th>_unit_id</th>\n",
       "      <th>product_title</th>\n",
       "      <th>product_description</th>\n",
       "      <th>query</th>\n",
       "      <th>relevance</th>\n",
       "    </tr>\n",
       "  </thead>\n",
       "  <tbody>\n",
       "    <tr>\n",
       "      <th>0</th>\n",
       "      <td>711168214</td>\n",
       "      <td>Wintergreen Lighting Christmas LED Light Bulb ...</td>\n",
       "      <td>NaN</td>\n",
       "      <td>playstation 4</td>\n",
       "      <td>0.0</td>\n",
       "    </tr>\n",
       "    <tr>\n",
       "      <th>1</th>\n",
       "      <td>711168220</td>\n",
       "      <td>French Toast Boys Long Sleeve Classic Dress Sh...</td>\n",
       "      <td>A comfortable dress shirt made from our Wrinkl...</td>\n",
       "      <td>playstation 4</td>\n",
       "      <td>0.0</td>\n",
       "    </tr>\n",
       "    <tr>\n",
       "      <th>2</th>\n",
       "      <td>711168220</td>\n",
       "      <td>French Toast Boys Long Sleeve Classic Dress Sh...</td>\n",
       "      <td>A comfortable dress shirt made from our Wrinkl...</td>\n",
       "      <td>playstation 4</td>\n",
       "      <td>0.0</td>\n",
       "    </tr>\n",
       "    <tr>\n",
       "      <th>3</th>\n",
       "      <td>711168222</td>\n",
       "      <td>Perry Ellis Thin Stripe Classic Fit Dress Shirt</td>\n",
       "      <td>NaN</td>\n",
       "      <td>playstation 4</td>\n",
       "      <td>0.0</td>\n",
       "    </tr>\n",
       "    <tr>\n",
       "      <th>4</th>\n",
       "      <td>711168215</td>\n",
       "      <td>Sea Gull Lighting 3W Clear Incandescent Wedge ...</td>\n",
       "      <td>12V 3w clear incandescent wedge lamp Part of T...</td>\n",
       "      <td>playstation 4</td>\n",
       "      <td>0.0</td>\n",
       "    </tr>\n",
       "  </tbody>\n",
       "</table>\n",
       "</div>"
      ],
      "text/plain": [
       "    _unit_id                                      product_title  \\\n",
       "0  711168214  Wintergreen Lighting Christmas LED Light Bulb ...   \n",
       "1  711168220  French Toast Boys Long Sleeve Classic Dress Sh...   \n",
       "2  711168220  French Toast Boys Long Sleeve Classic Dress Sh...   \n",
       "3  711168222    Perry Ellis Thin Stripe Classic Fit Dress Shirt   \n",
       "4  711168215  Sea Gull Lighting 3W Clear Incandescent Wedge ...   \n",
       "\n",
       "                                 product_description          query  relevance  \n",
       "0                                                NaN  playstation 4        0.0  \n",
       "1  A comfortable dress shirt made from our Wrinkl...  playstation 4        0.0  \n",
       "2  A comfortable dress shirt made from our Wrinkl...  playstation 4        0.0  \n",
       "3                                                NaN  playstation 4        0.0  \n",
       "4  12V 3w clear incandescent wedge lamp Part of T...  playstation 4        0.0  "
      ]
     },
     "execution_count": 37,
     "metadata": {},
     "output_type": "execute_result"
    }
   ],
   "source": [
    "df_train.head()"
   ]
  },
  {
   "cell_type": "code",
   "execution_count": 39,
   "id": "b24a47c3",
   "metadata": {},
   "outputs": [],
   "source": [
    "import numpy as np\n",
    "df_train['relevance'] = df_train['relevance'].astype(np.int64)"
   ]
  },
  {
   "cell_type": "code",
   "execution_count": 40,
   "id": "40193ef7",
   "metadata": {},
   "outputs": [
    {
     "data": {
      "text/html": [
       "<div>\n",
       "<style scoped>\n",
       "    .dataframe tbody tr th:only-of-type {\n",
       "        vertical-align: middle;\n",
       "    }\n",
       "\n",
       "    .dataframe tbody tr th {\n",
       "        vertical-align: top;\n",
       "    }\n",
       "\n",
       "    .dataframe thead th {\n",
       "        text-align: right;\n",
       "    }\n",
       "</style>\n",
       "<table border=\"1\" class=\"dataframe\">\n",
       "  <thead>\n",
       "    <tr style=\"text-align: right;\">\n",
       "      <th></th>\n",
       "      <th>_unit_id</th>\n",
       "      <th>product_title</th>\n",
       "      <th>product_description</th>\n",
       "      <th>query</th>\n",
       "      <th>relevance</th>\n",
       "    </tr>\n",
       "  </thead>\n",
       "  <tbody>\n",
       "    <tr>\n",
       "      <th>0</th>\n",
       "      <td>711168214</td>\n",
       "      <td>Wintergreen Lighting Christmas LED Light Bulb ...</td>\n",
       "      <td>NaN</td>\n",
       "      <td>playstation 4</td>\n",
       "      <td>0</td>\n",
       "    </tr>\n",
       "    <tr>\n",
       "      <th>1</th>\n",
       "      <td>711168220</td>\n",
       "      <td>French Toast Boys Long Sleeve Classic Dress Sh...</td>\n",
       "      <td>A comfortable dress shirt made from our Wrinkl...</td>\n",
       "      <td>playstation 4</td>\n",
       "      <td>0</td>\n",
       "    </tr>\n",
       "    <tr>\n",
       "      <th>2</th>\n",
       "      <td>711168220</td>\n",
       "      <td>French Toast Boys Long Sleeve Classic Dress Sh...</td>\n",
       "      <td>A comfortable dress shirt made from our Wrinkl...</td>\n",
       "      <td>playstation 4</td>\n",
       "      <td>0</td>\n",
       "    </tr>\n",
       "    <tr>\n",
       "      <th>3</th>\n",
       "      <td>711168222</td>\n",
       "      <td>Perry Ellis Thin Stripe Classic Fit Dress Shirt</td>\n",
       "      <td>NaN</td>\n",
       "      <td>playstation 4</td>\n",
       "      <td>0</td>\n",
       "    </tr>\n",
       "    <tr>\n",
       "      <th>4</th>\n",
       "      <td>711168215</td>\n",
       "      <td>Sea Gull Lighting 3W Clear Incandescent Wedge ...</td>\n",
       "      <td>12V 3w clear incandescent wedge lamp Part of T...</td>\n",
       "      <td>playstation 4</td>\n",
       "      <td>0</td>\n",
       "    </tr>\n",
       "    <tr>\n",
       "      <th>...</th>\n",
       "      <td>...</td>\n",
       "      <td>...</td>\n",
       "      <td>...</td>\n",
       "      <td>...</td>\n",
       "      <td>...</td>\n",
       "    </tr>\n",
       "    <tr>\n",
       "      <th>29307</th>\n",
       "      <td>711179068</td>\n",
       "      <td>NewMetro Design KA-6LR KitchenAid 6-Quart Bowl...</td>\n",
       "      <td>Features - An Enticing Elixir Eau De Toilette ...</td>\n",
       "      <td>kitchenaid mixer</td>\n",
       "      <td>3</td>\n",
       "    </tr>\n",
       "    <tr>\n",
       "      <th>29308</th>\n",
       "      <td>711179069</td>\n",
       "      <td>NewMetro Design KA-THPRO KitchenAid Tilt-Head ...</td>\n",
       "      <td>The ultimate hands-free mixing blade endures t...</td>\n",
       "      <td>kitchenaid mixer</td>\n",
       "      <td>1</td>\n",
       "    </tr>\n",
       "    <tr>\n",
       "      <th>29309</th>\n",
       "      <td>711179070</td>\n",
       "      <td>KitchenAid Flex Edge Beater</td>\n",
       "      <td>Upgrade your kitchen accessory collection with...</td>\n",
       "      <td>kitchenaid mixer</td>\n",
       "      <td>1</td>\n",
       "    </tr>\n",
       "    <tr>\n",
       "      <th>29310</th>\n",
       "      <td>711179071</td>\n",
       "      <td>KitchenAid Sausage Stuffer Kit</td>\n",
       "      <td>If you love to create mouth-watering food at h...</td>\n",
       "      <td>kitchenaid mixer</td>\n",
       "      <td>2</td>\n",
       "    </tr>\n",
       "    <tr>\n",
       "      <th>29311</th>\n",
       "      <td>711179072</td>\n",
       "      <td>Hamilton Beach Power Deluxe 4-Quart Stand Mixer</td>\n",
       "      <td>Get the mixing action you've always wanted wit...</td>\n",
       "      <td>kitchenaid mixer</td>\n",
       "      <td>3</td>\n",
       "    </tr>\n",
       "  </tbody>\n",
       "</table>\n",
       "<p>29312 rows × 5 columns</p>\n",
       "</div>"
      ],
      "text/plain": [
       "        _unit_id                                      product_title  \\\n",
       "0      711168214  Wintergreen Lighting Christmas LED Light Bulb ...   \n",
       "1      711168220  French Toast Boys Long Sleeve Classic Dress Sh...   \n",
       "2      711168220  French Toast Boys Long Sleeve Classic Dress Sh...   \n",
       "3      711168222    Perry Ellis Thin Stripe Classic Fit Dress Shirt   \n",
       "4      711168215  Sea Gull Lighting 3W Clear Incandescent Wedge ...   \n",
       "...          ...                                                ...   \n",
       "29307  711179068  NewMetro Design KA-6LR KitchenAid 6-Quart Bowl...   \n",
       "29308  711179069  NewMetro Design KA-THPRO KitchenAid Tilt-Head ...   \n",
       "29309  711179070                        KitchenAid Flex Edge Beater   \n",
       "29310  711179071                     KitchenAid Sausage Stuffer Kit   \n",
       "29311  711179072    Hamilton Beach Power Deluxe 4-Quart Stand Mixer   \n",
       "\n",
       "                                     product_description             query  \\\n",
       "0                                                    NaN     playstation 4   \n",
       "1      A comfortable dress shirt made from our Wrinkl...     playstation 4   \n",
       "2      A comfortable dress shirt made from our Wrinkl...     playstation 4   \n",
       "3                                                    NaN     playstation 4   \n",
       "4      12V 3w clear incandescent wedge lamp Part of T...     playstation 4   \n",
       "...                                                  ...               ...   \n",
       "29307  Features - An Enticing Elixir Eau De Toilette ...  kitchenaid mixer   \n",
       "29308  The ultimate hands-free mixing blade endures t...  kitchenaid mixer   \n",
       "29309  Upgrade your kitchen accessory collection with...  kitchenaid mixer   \n",
       "29310  If you love to create mouth-watering food at h...  kitchenaid mixer   \n",
       "29311  Get the mixing action you've always wanted wit...  kitchenaid mixer   \n",
       "\n",
       "       relevance  \n",
       "0              0  \n",
       "1              0  \n",
       "2              0  \n",
       "3              0  \n",
       "4              0  \n",
       "...          ...  \n",
       "29307          3  \n",
       "29308          1  \n",
       "29309          1  \n",
       "29310          2  \n",
       "29311          3  \n",
       "\n",
       "[29312 rows x 5 columns]"
      ]
     },
     "execution_count": 40,
     "metadata": {},
     "output_type": "execute_result"
    }
   ],
   "source": [
    "df_train"
   ]
  },
  {
   "cell_type": "markdown",
   "id": "e9fd4e9e",
   "metadata": {},
   "source": [
    "## Substituição de float('NaN') por String Vazia"
   ]
  },
  {
   "cell_type": "code",
   "execution_count": 41,
   "id": "5df7e318",
   "metadata": {},
   "outputs": [
    {
     "data": {
      "text/html": [
       "<div>\n",
       "<style scoped>\n",
       "    .dataframe tbody tr th:only-of-type {\n",
       "        vertical-align: middle;\n",
       "    }\n",
       "\n",
       "    .dataframe tbody tr th {\n",
       "        vertical-align: top;\n",
       "    }\n",
       "\n",
       "    .dataframe thead th {\n",
       "        text-align: right;\n",
       "    }\n",
       "</style>\n",
       "<table border=\"1\" class=\"dataframe\">\n",
       "  <thead>\n",
       "    <tr style=\"text-align: right;\">\n",
       "      <th></th>\n",
       "      <th>_unit_id</th>\n",
       "      <th>product_title</th>\n",
       "      <th>product_description</th>\n",
       "      <th>query</th>\n",
       "      <th>relevance</th>\n",
       "    </tr>\n",
       "  </thead>\n",
       "  <tbody>\n",
       "    <tr>\n",
       "      <th>0</th>\n",
       "      <td>711168214</td>\n",
       "      <td>Wintergreen Lighting Christmas LED Light Bulb ...</td>\n",
       "      <td></td>\n",
       "      <td>playstation 4</td>\n",
       "      <td>0</td>\n",
       "    </tr>\n",
       "    <tr>\n",
       "      <th>1</th>\n",
       "      <td>711168220</td>\n",
       "      <td>French Toast Boys Long Sleeve Classic Dress Sh...</td>\n",
       "      <td>A comfortable dress shirt made from our Wrinkl...</td>\n",
       "      <td>playstation 4</td>\n",
       "      <td>0</td>\n",
       "    </tr>\n",
       "    <tr>\n",
       "      <th>2</th>\n",
       "      <td>711168220</td>\n",
       "      <td>French Toast Boys Long Sleeve Classic Dress Sh...</td>\n",
       "      <td>A comfortable dress shirt made from our Wrinkl...</td>\n",
       "      <td>playstation 4</td>\n",
       "      <td>0</td>\n",
       "    </tr>\n",
       "    <tr>\n",
       "      <th>3</th>\n",
       "      <td>711168222</td>\n",
       "      <td>Perry Ellis Thin Stripe Classic Fit Dress Shirt</td>\n",
       "      <td></td>\n",
       "      <td>playstation 4</td>\n",
       "      <td>0</td>\n",
       "    </tr>\n",
       "    <tr>\n",
       "      <th>4</th>\n",
       "      <td>711168215</td>\n",
       "      <td>Sea Gull Lighting 3W Clear Incandescent Wedge ...</td>\n",
       "      <td>12V 3w clear incandescent wedge lamp Part of T...</td>\n",
       "      <td>playstation 4</td>\n",
       "      <td>0</td>\n",
       "    </tr>\n",
       "    <tr>\n",
       "      <th>...</th>\n",
       "      <td>...</td>\n",
       "      <td>...</td>\n",
       "      <td>...</td>\n",
       "      <td>...</td>\n",
       "      <td>...</td>\n",
       "    </tr>\n",
       "    <tr>\n",
       "      <th>29307</th>\n",
       "      <td>711179068</td>\n",
       "      <td>NewMetro Design KA-6LR KitchenAid 6-Quart Bowl...</td>\n",
       "      <td>Features - An Enticing Elixir Eau De Toilette ...</td>\n",
       "      <td>kitchenaid mixer</td>\n",
       "      <td>3</td>\n",
       "    </tr>\n",
       "    <tr>\n",
       "      <th>29308</th>\n",
       "      <td>711179069</td>\n",
       "      <td>NewMetro Design KA-THPRO KitchenAid Tilt-Head ...</td>\n",
       "      <td>The ultimate hands-free mixing blade endures t...</td>\n",
       "      <td>kitchenaid mixer</td>\n",
       "      <td>1</td>\n",
       "    </tr>\n",
       "    <tr>\n",
       "      <th>29309</th>\n",
       "      <td>711179070</td>\n",
       "      <td>KitchenAid Flex Edge Beater</td>\n",
       "      <td>Upgrade your kitchen accessory collection with...</td>\n",
       "      <td>kitchenaid mixer</td>\n",
       "      <td>1</td>\n",
       "    </tr>\n",
       "    <tr>\n",
       "      <th>29310</th>\n",
       "      <td>711179071</td>\n",
       "      <td>KitchenAid Sausage Stuffer Kit</td>\n",
       "      <td>If you love to create mouth-watering food at h...</td>\n",
       "      <td>kitchenaid mixer</td>\n",
       "      <td>2</td>\n",
       "    </tr>\n",
       "    <tr>\n",
       "      <th>29311</th>\n",
       "      <td>711179072</td>\n",
       "      <td>Hamilton Beach Power Deluxe 4-Quart Stand Mixer</td>\n",
       "      <td>Get the mixing action you've always wanted wit...</td>\n",
       "      <td>kitchenaid mixer</td>\n",
       "      <td>3</td>\n",
       "    </tr>\n",
       "  </tbody>\n",
       "</table>\n",
       "<p>29312 rows × 5 columns</p>\n",
       "</div>"
      ],
      "text/plain": [
       "        _unit_id                                      product_title  \\\n",
       "0      711168214  Wintergreen Lighting Christmas LED Light Bulb ...   \n",
       "1      711168220  French Toast Boys Long Sleeve Classic Dress Sh...   \n",
       "2      711168220  French Toast Boys Long Sleeve Classic Dress Sh...   \n",
       "3      711168222    Perry Ellis Thin Stripe Classic Fit Dress Shirt   \n",
       "4      711168215  Sea Gull Lighting 3W Clear Incandescent Wedge ...   \n",
       "...          ...                                                ...   \n",
       "29307  711179068  NewMetro Design KA-6LR KitchenAid 6-Quart Bowl...   \n",
       "29308  711179069  NewMetro Design KA-THPRO KitchenAid Tilt-Head ...   \n",
       "29309  711179070                        KitchenAid Flex Edge Beater   \n",
       "29310  711179071                     KitchenAid Sausage Stuffer Kit   \n",
       "29311  711179072    Hamilton Beach Power Deluxe 4-Quart Stand Mixer   \n",
       "\n",
       "                                     product_description             query  \\\n",
       "0                                                            playstation 4   \n",
       "1      A comfortable dress shirt made from our Wrinkl...     playstation 4   \n",
       "2      A comfortable dress shirt made from our Wrinkl...     playstation 4   \n",
       "3                                                            playstation 4   \n",
       "4      12V 3w clear incandescent wedge lamp Part of T...     playstation 4   \n",
       "...                                                  ...               ...   \n",
       "29307  Features - An Enticing Elixir Eau De Toilette ...  kitchenaid mixer   \n",
       "29308  The ultimate hands-free mixing blade endures t...  kitchenaid mixer   \n",
       "29309  Upgrade your kitchen accessory collection with...  kitchenaid mixer   \n",
       "29310  If you love to create mouth-watering food at h...  kitchenaid mixer   \n",
       "29311  Get the mixing action you've always wanted wit...  kitchenaid mixer   \n",
       "\n",
       "       relevance  \n",
       "0              0  \n",
       "1              0  \n",
       "2              0  \n",
       "3              0  \n",
       "4              0  \n",
       "...          ...  \n",
       "29307          3  \n",
       "29308          1  \n",
       "29309          1  \n",
       "29310          2  \n",
       "29311          3  \n",
       "\n",
       "[29312 rows x 5 columns]"
      ]
     },
     "execution_count": 41,
     "metadata": {},
     "output_type": "execute_result"
    }
   ],
   "source": [
    "df_train['product_description'] = df_train['product_description'].replace(float(\"NaN\"), '')\n",
    "df_train"
   ]
  },
  {
   "cell_type": "markdown",
   "id": "d15968fa",
   "metadata": {},
   "source": [
    "## Convertendo a Base de Treino para o Formato InputExample"
   ]
  },
  {
   "cell_type": "code",
   "execution_count": 42,
   "id": "5a8011f0",
   "metadata": {},
   "outputs": [
    {
     "data": {
      "text/plain": [
       "'Wintergreen Lighting Christmas LED Light Bulb (Pack of 25)'"
      ]
     },
     "execution_count": 42,
     "metadata": {},
     "output_type": "execute_result"
    }
   ],
   "source": [
    "df_train['product_title'][0]"
   ]
  },
  {
   "cell_type": "code",
   "execution_count": 43,
   "id": "49e6428d",
   "metadata": {},
   "outputs": [],
   "source": [
    "from sentence_transformers import InputExample\n",
    "train_examples = []\n",
    "\n",
    "for i in range(len(df_train)):\n",
    "    label = df_train['relevance'][i]\n",
    "    train_examples.append(InputExample(texts=[[df_train['product_title'][i], df_train['product_description'][i]], df_train['query'][i]], label=label))\n",
    "\n",
    "\n",
    "train_examples = train_examples[:500]"
   ]
  },
  {
   "cell_type": "markdown",
   "id": "d474de89",
   "metadata": {},
   "source": [
    "## Convertendo os exemplos de treinamento em um arquivo Dataloader"
   ]
  },
  {
   "cell_type": "code",
   "execution_count": 44,
   "id": "f2475cd4",
   "metadata": {},
   "outputs": [],
   "source": [
    "from torch.utils.data import DataLoader\n",
    "\n",
    "train_dataloader = DataLoader(train_examples, shuffle=True, batch_size=16)"
   ]
  },
  {
   "cell_type": "markdown",
   "id": "c911fd15",
   "metadata": {},
   "source": [
    "## Definindo a função de perda"
   ]
  },
  {
   "cell_type": "markdown",
   "id": "e28fc3fc",
   "metadata": {},
   "source": [
    "Softmax Loss <br>\n",
    "Contrastive Loss"
   ]
  },
  {
   "cell_type": "code",
   "execution_count": 45,
   "id": "ab5376bb",
   "metadata": {},
   "outputs": [],
   "source": [
    "from sentence_transformers import losses\n",
    "\n",
    "train_loss = losses.SoftmaxLoss(model=model, sentence_embedding_dimension=model.get_sentence_embedding_dimension(), num_labels=3)"
   ]
  },
  {
   "cell_type": "code",
   "execution_count": 19,
   "id": "80cf6ea3",
   "metadata": {},
   "outputs": [
    {
     "name": "stdout",
     "output_type": "stream",
     "text": [
      "Requirement already satisfied: huggingface_hub in a:\\anaconda3\\lib\\site-packages (0.9.1)\n",
      "Requirement already satisfied: filelock in a:\\anaconda3\\lib\\site-packages (from huggingface_hub) (3.0.12)\n",
      "Requirement already satisfied: packaging>=20.9 in a:\\anaconda3\\lib\\site-packages (from huggingface_hub) (21.3)\n",
      "Requirement already satisfied: tqdm in a:\\anaconda3\\lib\\site-packages (from huggingface_hub) (4.64.1)\n",
      "Requirement already satisfied: requests in a:\\anaconda3\\lib\\site-packages (from huggingface_hub) (2.25.1)\n",
      "Requirement already satisfied: typing-extensions>=3.7.4.3 in a:\\anaconda3\\lib\\site-packages (from huggingface_hub) (4.3.0)\n",
      "Requirement already satisfied: pyyaml>=5.1 in a:\\anaconda3\\lib\\site-packages (from huggingface_hub) (5.4.1)\n",
      "Requirement already satisfied: pyparsing!=3.0.5,>=2.0.2 in a:\\anaconda3\\lib\\site-packages (from packaging>=20.9->huggingface_hub) (2.4.7)\n",
      "Requirement already satisfied: idna<3,>=2.5 in a:\\anaconda3\\lib\\site-packages (from requests->huggingface_hub) (2.10)\n",
      "Requirement already satisfied: certifi>=2017.4.17 in a:\\anaconda3\\lib\\site-packages (from requests->huggingface_hub) (2021.10.8)\n",
      "Requirement already satisfied: chardet<5,>=3.0.2 in a:\\anaconda3\\lib\\site-packages (from requests->huggingface_hub) (4.0.0)\n",
      "Requirement already satisfied: urllib3<1.27,>=1.21.1 in a:\\anaconda3\\lib\\site-packages (from requests->huggingface_hub) (1.26.4)\n",
      "Requirement already satisfied: colorama in a:\\anaconda3\\lib\\site-packages (from tqdm->huggingface_hub) (0.4.4)\n",
      "Note: you may need to restart the kernel to use updated packages.\n"
     ]
    }
   ],
   "source": [
    "pip install huggingface_hub"
   ]
  },
  {
   "cell_type": "code",
   "execution_count": 16,
   "id": "9ce35445",
   "metadata": {},
   "outputs": [
    {
     "data": {
      "application/vnd.jupyter.widget-view+json": {
       "model_id": "00aaafdb26f0484f834ec91aab515927",
       "version_major": 2,
       "version_minor": 0
      },
      "text/plain": [
       "VBox(children=(HTML(value=\"<center>\\n<img src=https://huggingface.co/front/assets/huggingface_logo-noborder.sv…"
      ]
     },
     "metadata": {},
     "output_type": "display_data"
    }
   ],
   "source": [
    "from huggingface_hub import notebook_login\n",
    "notebook_login()"
   ]
  },
  {
   "cell_type": "markdown",
   "id": "5da0cbcf",
   "metadata": {},
   "source": [
    "## Treinamento do Modelo"
   ]
  },
  {
   "cell_type": "code",
   "execution_count": 46,
   "id": "e438afc5",
   "metadata": {},
   "outputs": [
    {
     "data": {
      "application/vnd.jupyter.widget-view+json": {
       "model_id": "262f16528e034b2dab00a5bc2b332d7f",
       "version_major": 2,
       "version_minor": 0
      },
      "text/plain": [
       "Epoch:   0%|          | 0/1 [00:00<?, ?it/s]"
      ]
     },
     "metadata": {},
     "output_type": "display_data"
    },
    {
     "data": {
      "application/vnd.jupyter.widget-view+json": {
       "model_id": "903aa3b90b0c45ae89d78e1b21c30258",
       "version_major": 2,
       "version_minor": 0
      },
      "text/plain": [
       "Iteration:   0%|          | 0/32 [00:00<?, ?it/s]"
      ]
     },
     "metadata": {},
     "output_type": "display_data"
    }
   ],
   "source": [
    "model.fit(train_objectives=[(train_dataloader, train_loss)], epochs=1) "
   ]
  },
  {
   "cell_type": "code",
   "execution_count": 47,
   "id": "d15c4b0a",
   "metadata": {},
   "outputs": [
    {
     "name": "stderr",
     "output_type": "stream",
     "text": [
      "C:\\Users\\ton2\\anaconda3\\lib\\site-packages\\huggingface_hub\\hf_api.py:1001: FutureWarning: `create_repo` now takes `token` as an optional positional argument. Be sure to adapt your code!\n",
      "  warnings.warn(\n",
      "Cloning https://huggingface.co/tubyneto/crowdedflower-bert into local empty directory.\n"
     ]
    },
    {
     "data": {
      "application/vnd.jupyter.widget-view+json": {
       "model_id": "5ba116206225449196d3092ab1c6203a",
       "version_major": 2,
       "version_minor": 0
      },
      "text/plain": [
       "Upload file pytorch_model.bin:   0%|          | 32.0k/418M [00:00<?, ?B/s]"
      ]
     },
     "metadata": {},
     "output_type": "display_data"
    },
    {
     "name": "stderr",
     "output_type": "stream",
     "text": [
      "remote: Scanning LFS files for validity, may be slow...        \n",
      "remote: LFS file scan complete.        \n",
      "To https://huggingface.co/tubyneto/crowdedflower-bert\n",
      "   2e61b0e..5ea7c76  main -> main\n",
      "\n"
     ]
    },
    {
     "data": {
      "text/plain": [
       "'https://huggingface.co/tubyneto/crowdedflower-bert/commit/5ea7c76cfec3556ea99e72b3e801a02f38175ba4'"
      ]
     },
     "execution_count": 47,
     "metadata": {},
     "output_type": "execute_result"
    }
   ],
   "source": [
    "model.save_to_hub(\"crowdedflower-bert\")"
   ]
  },
  {
   "cell_type": "code",
   "execution_count": 27,
   "id": "be70bbbf",
   "metadata": {},
   "outputs": [
    {
     "data": {
      "application/vnd.jupyter.widget-view+json": {
       "model_id": "9c18bb6db00549d0b5236120b63fd6bb",
       "version_major": 2,
       "version_minor": 0
      },
      "text/plain": [
       "Downloading:   0%|          | 0.00/1.44k [00:00<?, ?B/s]"
      ]
     },
     "metadata": {},
     "output_type": "display_data"
    },
    {
     "data": {
      "application/vnd.jupyter.widget-view+json": {
       "model_id": "85786aa61f1d493799907b82b4e946cb",
       "version_major": 2,
       "version_minor": 0
      },
      "text/plain": [
       "Downloading:   0%|          | 0.00/190 [00:00<?, ?B/s]"
      ]
     },
     "metadata": {},
     "output_type": "display_data"
    },
    {
     "data": {
      "application/vnd.jupyter.widget-view+json": {
       "model_id": "564b35a805b646c18d029d23127b318d",
       "version_major": 2,
       "version_minor": 0
      },
      "text/plain": [
       "Downloading:   0%|          | 0.00/2.27k [00:00<?, ?B/s]"
      ]
     },
     "metadata": {},
     "output_type": "display_data"
    },
    {
     "data": {
      "application/vnd.jupyter.widget-view+json": {
       "model_id": "0aec85b66a44457db83fc732b5e42faf",
       "version_major": 2,
       "version_minor": 0
      },
      "text/plain": [
       "Downloading:   0%|          | 0.00/674 [00:00<?, ?B/s]"
      ]
     },
     "metadata": {},
     "output_type": "display_data"
    },
    {
     "data": {
      "application/vnd.jupyter.widget-view+json": {
       "model_id": "ac91c2dd376e43398cb68c37895a11a2",
       "version_major": 2,
       "version_minor": 0
      },
      "text/plain": [
       "Downloading:   0%|          | 0.00/116 [00:00<?, ?B/s]"
      ]
     },
     "metadata": {},
     "output_type": "display_data"
    },
    {
     "data": {
      "application/vnd.jupyter.widget-view+json": {
       "model_id": "9b4f415aa3e3471ebe543921487e8919",
       "version_major": 2,
       "version_minor": 0
      },
      "text/plain": [
       "Downloading:   0%|          | 0.00/438M [00:00<?, ?B/s]"
      ]
     },
     "metadata": {},
     "output_type": "display_data"
    },
    {
     "data": {
      "application/vnd.jupyter.widget-view+json": {
       "model_id": "b47ebc72a5074152b25c7e2e8a609245",
       "version_major": 2,
       "version_minor": 0
      },
      "text/plain": [
       "Downloading:   0%|          | 0.00/53.0 [00:00<?, ?B/s]"
      ]
     },
     "metadata": {},
     "output_type": "display_data"
    },
    {
     "data": {
      "application/vnd.jupyter.widget-view+json": {
       "model_id": "1da69ae5b4d44ac78cf49479a8857296",
       "version_major": 2,
       "version_minor": 0
      },
      "text/plain": [
       "Downloading:   0%|          | 0.00/280 [00:00<?, ?B/s]"
      ]
     },
     "metadata": {},
     "output_type": "display_data"
    },
    {
     "data": {
      "application/vnd.jupyter.widget-view+json": {
       "model_id": "2e53583ac38745dd88303d277d9838e1",
       "version_major": 2,
       "version_minor": 0
      },
      "text/plain": [
       "Downloading:   0%|          | 0.00/711k [00:00<?, ?B/s]"
      ]
     },
     "metadata": {},
     "output_type": "display_data"
    },
    {
     "data": {
      "application/vnd.jupyter.widget-view+json": {
       "model_id": "fd8b28b5f61e41ea8d29bf7fd10bc4e3",
       "version_major": 2,
       "version_minor": 0
      },
      "text/plain": [
       "Downloading:   0%|          | 0.00/474 [00:00<?, ?B/s]"
      ]
     },
     "metadata": {},
     "output_type": "display_data"
    },
    {
     "data": {
      "application/vnd.jupyter.widget-view+json": {
       "model_id": "a7e43937a20c4cdb919e4c797aed4d9b",
       "version_major": 2,
       "version_minor": 0
      },
      "text/plain": [
       "Downloading:   0%|          | 0.00/232k [00:00<?, ?B/s]"
      ]
     },
     "metadata": {},
     "output_type": "display_data"
    },
    {
     "data": {
      "application/vnd.jupyter.widget-view+json": {
       "model_id": "bae5583df0c24ae7aad75be09b18d809",
       "version_major": 2,
       "version_minor": 0
      },
      "text/plain": [
       "Downloading:   0%|          | 0.00/349 [00:00<?, ?B/s]"
      ]
     },
     "metadata": {},
     "output_type": "display_data"
    }
   ],
   "source": [
    "model = SentenceTransformer('tubyneto/crowdedflower-bert')"
   ]
  },
  {
   "cell_type": "code",
   "execution_count": 29,
   "id": "0d8e710f",
   "metadata": {},
   "outputs": [
    {
     "name": "stdout",
     "output_type": "stream",
     "text": [
      "Similarity: tensor([[0.5960, 0.5604]])\n"
     ]
    }
   ],
   "source": [
    "from sentence_transformers import SentenceTransformer, util\n",
    "\n",
    "query_embedding = model.encode(\"beaded curtains\")\n",
    "passage_embedding = model.encode([\"aiyana striped sheer grommet single curtain panel\",\n",
    "                                  \" sheer grommet top window curtain panel\"])\n",
    "\n",
    "print(\"Similarity:\", util.dot_score(query_embedding, passage_embedding))"
   ]
  },
  {
   "cell_type": "code",
   "execution_count": null,
   "id": "67f41f89",
   "metadata": {},
   "outputs": [],
   "source": []
  }
 ],
 "metadata": {
  "kernelspec": {
   "display_name": "Python 3",
   "language": "python",
   "name": "python3"
  },
  "language_info": {
   "codemirror_mode": {
    "name": "ipython",
    "version": 3
   },
   "file_extension": ".py",
   "mimetype": "text/x-python",
   "name": "python",
   "nbconvert_exporter": "python",
   "pygments_lexer": "ipython3",
   "version": "3.8.8"
  }
 },
 "nbformat": 4,
 "nbformat_minor": 5
}
